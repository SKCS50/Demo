{
  "nbformat": 4,
  "nbformat_minor": 0,
  "metadata": {
    "colab": {
      "provenance": []
    },
    "kernelspec": {
      "name": "python3",
      "display_name": "Python 3"
    },
    "language_info": {
      "name": "python"
    }
  },
  "cells": [
    {
      "cell_type": "code",
      "execution_count": null,
      "metadata": {
        "colab": {
          "base_uri": "https://localhost:8080/"
        },
        "id": "Fq_MRYGF57iB",
        "outputId": "6f23654d-17af-402d-a674-a054b42ee25a"
      },
      "outputs": [
        {
          "output_type": "stream",
          "name": "stdout",
          "text": [
            "Code with Me !\n"
          ]
        }
      ],
      "source": [
        "print(\"Code with Me !\") # SK"
      ]
    },
    {
      "cell_type": "code",
      "source": [
        "print(\"\"\"The 2022 FIFA World Cup, also known as Qatar 2022, is an international association football tournament contested by the men's national teams of FIFA's member associations, and the 22nd FIFA World Cup. The event is taking place in Qatar from 20 November to 18 December 2022.\"\"\")"
      ],
      "metadata": {
        "colab": {
          "base_uri": "https://localhost:8080/"
        },
        "id": "vrpVG1JU6UTU",
        "outputId": "6df1a103-7aa2-47f2-afb0-6b883c59c215"
      },
      "execution_count": null,
      "outputs": [
        {
          "output_type": "stream",
          "name": "stdout",
          "text": [
            "The 2022 FIFA World Cup, also known as Qatar 2022, is an international association football tournament contested by the men's national teams of FIFA's member associations, and the 22nd FIFA World Cup. The event is taking place in Qatar from 20 November to 18 December 2022.\n"
          ]
        }
      ]
    },
    {
      "cell_type": "code",
      "source": [
        "\"\"\"Saying \n",
        "Hello\n",
        "To The World.\n",
        "\"\"\""
      ],
      "metadata": {
        "colab": {
          "base_uri": "https://localhost:8080/",
          "height": 35
        },
        "id": "fMwGG58X6jtL",
        "outputId": "908ca367-0b86-4ede-f231-791ff309b175"
      },
      "execution_count": null,
      "outputs": [
        {
          "output_type": "execute_result",
          "data": {
            "text/plain": [
              "'Saying \\nHello\\nTo The World.\\n'"
            ],
            "application/vnd.google.colaboratory.intrinsic+json": {
              "type": "string"
            }
          },
          "metadata": {},
          "execution_count": 3
        }
      ]
    },
    {
      "cell_type": "code",
      "source": [
        "a = 30+5j\n",
        "\n",
        "print(a)"
      ],
      "metadata": {
        "colab": {
          "base_uri": "https://localhost:8080/"
        },
        "id": "-o3ytfEF6xD6",
        "outputId": "5c43c4fe-da05-477e-e01a-7ed1ca279402"
      },
      "execution_count": null,
      "outputs": [
        {
          "output_type": "stream",
          "name": "stdout",
          "text": [
            "(30+5j)\n"
          ]
        }
      ]
    },
    {
      "cell_type": "code",
      "source": [
        "type(a)"
      ],
      "metadata": {
        "colab": {
          "base_uri": "https://localhost:8080/"
        },
        "id": "hwecdem37VZj",
        "outputId": "81e9df7d-6b07-476e-91bd-7a8399b1a5d1"
      },
      "execution_count": null,
      "outputs": [
        {
          "output_type": "execute_result",
          "data": {
            "text/plain": [
              "complex"
            ]
          },
          "metadata": {},
          "execution_count": 5
        }
      ]
    },
    {
      "cell_type": "code",
      "source": [
        "a.real"
      ],
      "metadata": {
        "colab": {
          "base_uri": "https://localhost:8080/"
        },
        "id": "VyNSeOKZ7Y9e",
        "outputId": "a6fb58e3-3a39-495d-9b3b-277571f17194"
      },
      "execution_count": null,
      "outputs": [
        {
          "output_type": "execute_result",
          "data": {
            "text/plain": [
              "30.0"
            ]
          },
          "metadata": {},
          "execution_count": 6
        }
      ]
    },
    {
      "cell_type": "code",
      "source": [
        "a.imag"
      ],
      "metadata": {
        "colab": {
          "base_uri": "https://localhost:8080/"
        },
        "id": "R-qGaHcR7cg2",
        "outputId": "df45879e-4a19-4d65-a6ea-5cee015345c3"
      },
      "execution_count": null,
      "outputs": [
        {
          "output_type": "execute_result",
          "data": {
            "text/plain": [
              "5.0"
            ]
          },
          "metadata": {},
          "execution_count": 7
        }
      ]
    },
    {
      "cell_type": "code",
      "source": [
        "a.real\n",
        "a.imag"
      ],
      "metadata": {
        "colab": {
          "base_uri": "https://localhost:8080/"
        },
        "id": "rjh_IuLS7dwq",
        "outputId": "7afa1451-0caa-497c-f886-e022e02047ec"
      },
      "execution_count": null,
      "outputs": [
        {
          "output_type": "execute_result",
          "data": {
            "text/plain": [
              "5.0"
            ]
          },
          "metadata": {},
          "execution_count": 8
        }
      ]
    },
    {
      "cell_type": "markdown",
      "source": [
        "# Conclusion -\n",
        "###use and operator when you want all the condition to be true\n",
        "###use or operator if anyone of the condition you want to be true"
      ],
      "metadata": {
        "id": "hMSYHnFZsyXm"
      }
    },
    {
      "cell_type": "code",
      "source": [
        "# complex conditional casses as mentioned above -\n",
        "attendance = int(input(print(\"Percentage of attendence? : \"))) # mendatory\n",
        "assignment_submitted = int(input(print(\"Percentage of assignement submission? : \"))) # mendatory\n",
        "sports_player = bool(input(print(\"Sports player (yes/no) : \"))) # not mendatory\n",
        "\n",
        "print(f\"attendence criteria met? : {attendance >= 75}\")\n",
        "print(f\"assignment criteria met? : {assignment_submitted >= 70}\")\n",
        "print(f\"sports criteria met? : {sports_player}\")\n",
        "\n",
        "if attendance >= 75 and assignment_submitted >= 70:\n",
        "    if sports_player:\n",
        "        print(\"The student can get grace marks = +10\")\n",
        "    else:\n",
        "        print(\"The student is eligible to appear in final exam but not extra grace marks\")\n",
        "else:\n",
        "    print(\"The student is not eligible\")"
      ],
      "metadata": {
        "colab": {
          "base_uri": "https://localhost:8080/"
        },
        "id": "Y75gB-SE7gqz",
        "outputId": "f8dc8040-23ef-4cd1-994a-1dd64757094e"
      },
      "execution_count": null,
      "outputs": [
        {
          "output_type": "stream",
          "name": "stdout",
          "text": [
            "Percentage of attendence? : \n",
            "None80\n",
            "Percentage of assignement submission? : \n",
            "None90\n",
            "Sports player (yes/no) : \n",
            "Nonetrue\n",
            "attendence criteria met? : True\n",
            "assignment criteria met? : True\n",
            "sports criteria met? : True\n",
            "The student can get grace marks = +10\n"
          ]
        }
      ]
    },
    {
      "cell_type": "code",
      "source": [
        "# complex conditional casses as mentioned above -\n",
        "attendance = int(input(print(\"Percentage of attendence? : \"))) # mendatory\n",
        "assignment_submitted = int(input(print(\"Percentage of assignement submission? : \"))) # mendatory\n",
        "sports_player = bool(input(print(\"Sports player (yes/no) : \"))) # not mendatory\n",
        "\n",
        "print(f\"attendence criteria met? : {attendance >= 75}\")\n",
        "print(f\"assignment criteria met? : {assignment_submitted >= 70}\")\n",
        "print(f\"sports criteria met? : {sports_player}\")\n",
        "\n",
        "if attendance >= 75 and assignment_submitted >= 70:\n",
        "    if sports_player == True :\n",
        "        print(\"The student can get grace marks = +10\")\n",
        "    else:\n",
        "        print(\"The student is eligible to appear in final exam but not extra grace marks\")\n",
        "else:\n",
        "    print(\"The student is not eligible\")"
      ],
      "metadata": {
        "colab": {
          "base_uri": "https://localhost:8080/"
        },
        "id": "xUU8OjkXuhcG",
        "outputId": "8d71280d-5e9c-406c-d835-d1b62686d081"
      },
      "execution_count": null,
      "outputs": [
        {
          "output_type": "stream",
          "name": "stdout",
          "text": [
            "Percentage of attendence? : \n",
            "None99\n",
            "Percentage of assignement submission? : \n",
            "None90\n",
            "Sports player (yes/no) : \n",
            "None\n",
            "attendence criteria met? : True\n",
            "assignment criteria met? : True\n",
            "sports criteria met? : False\n",
            "The student is eligible to appear in final exam but not extra grace marks\n"
          ]
        }
      ]
    },
    {
      "cell_type": "code",
      "source": [
        "# index 0123456789\n",
        "date = input(print(\"Date: \"))\n",
        "\n",
        "# today's date, Month and year\n",
        "\n",
        "today_s_date = date[0:2]\n",
        "month = date[3:5]\n",
        "year = date[6:]\n",
        "\n",
        "print(f\"its {today_s_date}th of the month: {month} of the year: {year}\")"
      ],
      "metadata": {
        "colab": {
          "base_uri": "https://localhost:8080/"
        },
        "id": "Pc6ksyMtv6uZ",
        "outputId": "416fc3b8-fb48-4df9-9bce-2b1dde6f51e2"
      },
      "execution_count": null,
      "outputs": [
        {
          "output_type": "stream",
          "name": "stdout",
          "text": [
            "Date: \n",
            "None21.11.2022\n",
            "its 21th of the month: 11 of the year: 2022\n"
          ]
        }
      ]
    },
    {
      "cell_type": "code",
      "source": [
        "val = float(input(\"Enter a nuber:\"))\n",
        "if val>=0:\n",
        "  if val == 0:\n",
        "    print(\"Its zero\")\n",
        "  else:\n",
        "    print(\"Its a positive no\")\n",
        "else:\n",
        "  print(\"Negative number\")"
      ],
      "metadata": {
        "colab": {
          "base_uri": "https://localhost:8080/"
        },
        "id": "_9vcNB048ejW",
        "outputId": "a607b27f-6260-4652-e5ca-25fe0c9657ad"
      },
      "execution_count": null,
      "outputs": [
        {
          "output_type": "stream",
          "name": "stdout",
          "text": [
            "Enter a nuber:9\n",
            "Its a positive no\n"
          ]
        }
      ]
    },
    {
      "cell_type": "code",
      "source": [
        "val = float(input(\"Enter a nuber:\"))\n",
        "if val>=0:\n",
        "  if val == 0:\n",
        "    print(\"Its zero\")\n",
        "  else:\n",
        "    print(\"Its a positive no\")\n",
        "else:\n",
        "  print(\"Negative number\")"
      ],
      "metadata": {
        "colab": {
          "base_uri": "https://localhost:8080/"
        },
        "id": "FK9bltX9KzRq",
        "outputId": "485cde3c-23d2-411d-c101-d55fc72a4b1d"
      },
      "execution_count": null,
      "outputs": [
        {
          "output_type": "stream",
          "name": "stdout",
          "text": [
            "Enter a nuber:0\n",
            "Its zero\n"
          ]
        }
      ]
    },
    {
      "cell_type": "code",
      "source": [
        "val = float(input(\"Enter a nuber:\"))\n",
        "if val>=0:\n",
        "  if val == 0:\n",
        "    print(\"Its zero\")\n",
        "  else:\n",
        "    print(\"Its a positive no\")\n",
        "else:\n",
        "  print(\"Negative number\")"
      ],
      "metadata": {
        "colab": {
          "base_uri": "https://localhost:8080/"
        },
        "id": "z-u1auVcK1Xq",
        "outputId": "17778345-759b-4c32-ec3f-d516431dd6df"
      },
      "execution_count": null,
      "outputs": [
        {
          "output_type": "stream",
          "name": "stdout",
          "text": [
            "Enter a nuber:-9\n",
            "Negative number\n"
          ]
        }
      ]
    },
    {
      "cell_type": "code",
      "source": [
        "# only good for competitive programming\n",
        "val = float(input(\"Enter a number: \"))\n",
        "\n",
        "print(\"YES\" if val > 99 else \"NO\")"
      ],
      "metadata": {
        "colab": {
          "base_uri": "https://localhost:8080/"
        },
        "id": "6n20nWW1K33S",
        "outputId": "059b3f8e-5609-4e15-918f-17c516c091c4"
      },
      "execution_count": null,
      "outputs": [
        {
          "output_type": "stream",
          "name": "stdout",
          "text": [
            "Enter a number: 9\n",
            "NO\n"
          ]
        }
      ]
    },
    {
      "cell_type": "code",
      "source": [
        "cutoff = 400\n",
        "scores = [100, 200, 300, 399, 500]\n",
        "\n",
        "# I will keep on attempting until I succeed\n",
        "year = 1 # indexing in python starts with 0\n",
        "\n",
        "while scores[year] < cutoff:\n",
        "  print(f\"Your score is: {scores[year]}, cutoff: {cutoff}\")\n",
        "  print(\"I will attempt next year\")\n",
        "  year = year + 1 # I am adding 1 to current year"
      ],
      "metadata": {
        "colab": {
          "base_uri": "https://localhost:8080/"
        },
        "id": "5UEHL_ibK43w",
        "outputId": "8d5bdd93-21ed-4900-d4af-fb7be83cbef7"
      },
      "execution_count": null,
      "outputs": [
        {
          "output_type": "stream",
          "name": "stdout",
          "text": [
            "Your score is: 200, cutoff: 400\n",
            "I will attempt next year\n",
            "Your score is: 300, cutoff: 400\n",
            "I will attempt next year\n",
            "Your score is: 399, cutoff: 400\n",
            "I will attempt next year\n"
          ]
        }
      ]
    },
    {
      "cell_type": "code",
      "source": [
        "cutoff = 400\n",
        "scores = [100, 200, 300, 399, 500]\n",
        "\n",
        "# I will keep on attempting until I succeed\n",
        "year = 0 # indexing in python starts with 0\n",
        "\n",
        "while scores[year] < cutoff:\n",
        "  print(f\"Your score is: {scores[year]}, cutoff: {cutoff}\")\n",
        "  print(\"I will attempt next year\")\n",
        "  year = year + 1 # I am adding 1 to current year"
      ],
      "metadata": {
        "colab": {
          "base_uri": "https://localhost:8080/"
        },
        "id": "rlFS8y_TLVpT",
        "outputId": "544f6ece-8f8e-41c5-a017-66d6dc7ec7a1"
      },
      "execution_count": null,
      "outputs": [
        {
          "output_type": "stream",
          "name": "stdout",
          "text": [
            "Your score is: 100, cutoff: 400\n",
            "I will attempt next year\n",
            "Your score is: 200, cutoff: 400\n",
            "I will attempt next year\n",
            "Your score is: 300, cutoff: 400\n",
            "I will attempt next year\n",
            "Your score is: 399, cutoff: 400\n",
            "I will attempt next year\n"
          ]
        }
      ]
    },
    {
      "cell_type": "code",
      "source": [
        "notes = 10\n",
        "i = 1 # 1st note\n",
        "\n",
        "while i <= notes:\n",
        "  print(f\"current sum: {i*10}\")\n",
        "  i = i + 1"
      ],
      "metadata": {
        "colab": {
          "base_uri": "https://localhost:8080/"
        },
        "id": "p85hQOA5MHQ7",
        "outputId": "987f5125-add7-4831-c39d-248d422d8899"
      },
      "execution_count": null,
      "outputs": [
        {
          "output_type": "stream",
          "name": "stdout",
          "text": [
            "current sum: 10\n",
            "current sum: 20\n",
            "current sum: 30\n",
            "current sum: 40\n",
            "current sum: 50\n",
            "current sum: 60\n",
            "current sum: 70\n",
            "current sum: 80\n",
            "current sum: 90\n",
            "current sum: 100\n"
          ]
        }
      ]
    },
    {
      "cell_type": "code",
      "source": [
        "notes = 10\n",
        "i = 1 # 1st note\n",
        "\n",
        "while i <= notes:\n",
        "  print(f\"current sum: {i*10}\")\n",
        "  i += 1"
      ],
      "metadata": {
        "colab": {
          "base_uri": "https://localhost:8080/"
        },
        "id": "nvI69SchMVvb",
        "outputId": "06c9482f-baff-4e02-ccfe-92b2f484191b"
      },
      "execution_count": null,
      "outputs": [
        {
          "output_type": "stream",
          "name": "stdout",
          "text": [
            "current sum: 10\n",
            "current sum: 20\n",
            "current sum: 30\n",
            "current sum: 40\n",
            "current sum: 50\n",
            "current sum: 60\n",
            "current sum: 70\n",
            "current sum: 80\n",
            "current sum: 90\n",
            "current sum: 100\n"
          ]
        }
      ]
    },
    {
      "cell_type": "code",
      "source": [
        "# Train journey \n",
        "stations = [\"Station 01\", \"Station 02\", \"Station 03\", \"Station 04\"]\n",
        "\n",
        "current_station = 0\n",
        "destination_station = \"Station 03\"\n",
        "\n",
        "while stations[current_station] != destination_station:\n",
        "  print(f\"current station is: {stations[current_station]}\")\n",
        "  print(f\"my destination is: {destination_station}\")\n",
        "  print(\"Continue the journey I haven't reached the destination\")\n",
        "  current_station += 1\n",
        "  print(f\"Next station is: {stations[current_station]}\")\n",
        "  print(\"-----\")"
      ],
      "metadata": {
        "colab": {
          "base_uri": "https://localhost:8080/"
        },
        "id": "AYD_Y1_-Mlwv",
        "outputId": "22f3ef59-53c4-4759-cc25-e02166cca408"
      },
      "execution_count": null,
      "outputs": [
        {
          "output_type": "stream",
          "name": "stdout",
          "text": [
            "current station is: Station 01\n",
            "my destination is: Station 03\n",
            "Continue the journey I haven't reached the destination\n",
            "Next station is: Station 02\n",
            "-----\n",
            "current station is: Station 02\n",
            "my destination is: Station 03\n",
            "Continue the journey I haven't reached the destination\n",
            "Next station is: Station 03\n",
            "-----\n"
          ]
        }
      ]
    },
    {
      "cell_type": "code",
      "source": [
        "# Train journey \n",
        "stations = [\"Station 01\", \"Station 02\", \"Station 03\", \"Station 04\"]\n",
        "\n",
        "current_station = 0\n",
        "destination_station = \"Station 03\"\n",
        "\n",
        "while stations[current_station] != destination_station:\n",
        "  print(f\"current station is: {stations[current_station]}\")\n",
        "  print(f\"my destination is: {destination_station}\")\n",
        "  print(\"Continue the journey I haven't reached the destination\")\n",
        "  current_station += 1\n",
        "  print(f\"Next station is: {stations[current_station]}\")\n",
        "  print(\"-----\")\n",
        "else:\n",
        "  print(f\"I have arrived at: {stations[current_station]}\")  "
      ],
      "metadata": {
        "colab": {
          "base_uri": "https://localhost:8080/"
        },
        "id": "UjpIKWgSM3Jy",
        "outputId": "fdc52787-50a5-4c78-c65d-4a1af861e419"
      },
      "execution_count": null,
      "outputs": [
        {
          "output_type": "stream",
          "name": "stdout",
          "text": [
            "current station is: Station 01\n",
            "my destination is: Station 03\n",
            "Continue the journey I haven't reached the destination\n",
            "Next station is: Station 02\n",
            "-----\n",
            "current station is: Station 02\n",
            "my destination is: Station 03\n",
            "Continue the journey I haven't reached the destination\n",
            "Next station is: Station 03\n",
            "-----\n",
            "I have arrived at: Station 03\n"
          ]
        }
      ]
    },
    {
      "cell_type": "code",
      "source": [
        "\"\"\"\n",
        "Child is learning to counting 10 ruppes of note\n",
        "\"\"\"\n",
        "\n",
        "notes = 5\n",
        "i = 1 # 1st note\n",
        "\n",
        "while i <= notes:\n",
        "  print(f\"CONDITION: {i <= notes}\")\n",
        "  print(f\"current sum: {i*10}\")\n",
        "  i += 1\n",
        "  print(\"------\")\n",
        "else:\n",
        "  print(f\"CONDITION: {i <= notes}\")\n",
        "  print(\"No more 10 rupees notes left\")"
      ],
      "metadata": {
        "colab": {
          "base_uri": "https://localhost:8080/"
        },
        "id": "OhTQAe51NBtA",
        "outputId": "b38a53c6-7a6e-48bb-f620-59fbaca2c4bf"
      },
      "execution_count": null,
      "outputs": [
        {
          "output_type": "stream",
          "name": "stdout",
          "text": [
            "CONDITION: True\n",
            "current sum: 10\n",
            "------\n",
            "CONDITION: True\n",
            "current sum: 20\n",
            "------\n",
            "CONDITION: True\n",
            "current sum: 30\n",
            "------\n",
            "CONDITION: True\n",
            "current sum: 40\n",
            "------\n",
            "CONDITION: True\n",
            "current sum: 50\n",
            "------\n",
            "CONDITION: False\n",
            "No more 10 rupees notes left\n"
          ]
        }
      ]
    },
    {
      "cell_type": "code",
      "source": [
        "for i in range(0, 10): # (10 here is out of bound)\n",
        "  print(f\"10 X {i + 1} = {10*(i+1)}\")"
      ],
      "metadata": {
        "colab": {
          "base_uri": "https://localhost:8080/"
        },
        "id": "ksJVovnQNOJT",
        "outputId": "2cc01d70-0e67-4beb-dca0-aacf882e5fe1"
      },
      "execution_count": null,
      "outputs": [
        {
          "output_type": "stream",
          "name": "stdout",
          "text": [
            "10 X 1 = 10\n",
            "10 X 2 = 20\n",
            "10 X 3 = 30\n",
            "10 X 4 = 40\n",
            "10 X 5 = 50\n",
            "10 X 6 = 60\n",
            "10 X 7 = 70\n",
            "10 X 8 = 80\n",
            "10 X 9 = 90\n",
            "10 X 10 = 100\n"
          ]
        }
      ]
    },
    {
      "cell_type": "code",
      "source": [
        "Cost_of_items = [100, 200, 129, 456, 1000]\n",
        "#                 0    1    2    3\n",
        "total_sum = 0\n",
        "N = len(Cost_of_items)\n",
        "for i in range(0, N): # 0,1,2,3 \n",
        "  print(Cost_of_items[i])"
      ],
      "metadata": {
        "colab": {
          "base_uri": "https://localhost:8080/"
        },
        "id": "rOosbmx3NriM",
        "outputId": "1899a33b-5813-4b90-d893-0c59cd8162ee"
      },
      "execution_count": null,
      "outputs": [
        {
          "output_type": "stream",
          "name": "stdout",
          "text": [
            "100\n",
            "200\n",
            "129\n",
            "456\n",
            "1000\n"
          ]
        }
      ]
    },
    {
      "cell_type": "code",
      "source": [],
      "metadata": {
        "id": "iVe-ww9oOpgK"
      },
      "execution_count": null,
      "outputs": []
    }
  ]
}